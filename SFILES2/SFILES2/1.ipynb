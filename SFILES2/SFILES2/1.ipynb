{
 "cells": [
  {
   "cell_type": "code",
   "execution_count": null,
   "id": "92fdd9de",
   "metadata": {},
   "outputs": [],
   "source": [
    "\n"
   ]
  },
  {
   "cell_type": "code",
   "execution_count": null,
   "id": "7d02f084",
   "metadata": {},
   "outputs": [],
   "source": [
    "import json\n",
    "import pickle\n",
    "\n",
    "with open(\"simulation.json\", \"r\") as f:\n",
    "    data = json.load(f)\n",
    "\n",
    "with open(\"simulation.pkl\", \"wb\") as f:\n",
    "    pickle.dump(data, f)\n"
   ]
  },
  {
   "cell_type": "code",
   "execution_count": null,
   "id": "7f34673b",
   "metadata": {},
   "outputs": [],
   "source": [
    "import xml.etree.ElementTree as ET\n",
    "import networkx as nx\n",
    "import pickle\n",
    "\n",
    "# Load XML\n",
    "tree = ET.parse('.xml')\n",
    "root = tree.getroot()\n",
    "\n",
    "# Initialize graph\n",
    "G = nx.DiGraph()\n",
    "\n",
    "# Parse streams and units\n",
    "for unit in root.iter('UnitOperation'):\n",
    "    unit_id = unit.get('ID')\n",
    "    G.add_node(unit_id, type=unit.tag)\n",
    "\n",
    "for stream in root.iter('MaterialStream'):\n",
    "    src = stream.find('From').text if stream.find('From') is not None else None\n",
    "    dst = stream.find('To').text if stream.find('To') is not None else None\n",
    "    if src and dst:\n",
    "        G.add_edge(src, dst)\n",
    "\n",
    "# Save as Pickle\n",
    "with open('process_graph.pkl', 'wb') as f:\n",
    "    pickle.dump(G, f)\n"
   ]
  }
 ],
 "metadata": {
  "language_info": {
   "name": "python"
  }
 },
 "nbformat": 4,
 "nbformat_minor": 5
}
